{
 "cells": [
  {
   "cell_type": "markdown",
   "metadata": {
    "slideshow": {
     "slide_type": "slide"
    }
   },
   "source": [
    "# Python Workflows\n",
    "To test the Anaconda installation, a few exercises on Python workflow.\n",
    "* Scripts\n",
    "* Python interpreter\n",
    "* IPython interpreter\n",
    "* Jupyter notebook"
   ]
  },
  {
   "cell_type": "markdown",
   "metadata": {
    "slideshow": {
     "slide_type": "slide"
    }
   },
   "source": [
    "# Python scripts (\".py\" files)"
   ]
  },
  {
   "cell_type": "markdown",
   "metadata": {
    "slideshow": {
     "slide_type": "subslide"
    }
   },
   "source": [
    "You can write scripts that run just like a normal program from the terminal. \n",
    "Open your favorite text editor and create a hello.py file containing the following line:\n",
    "\n",
    "```\n",
    "print('Hello World!')\n",
    "```\n",
    "\n",
    "Now from the bash terminal prompt run:\n",
    "\n",
    "```\n",
    "python hello.py\n",
    "```"
   ]
  },
  {
   "cell_type": "markdown",
   "metadata": {
    "slideshow": {
     "slide_type": "subslide"
    }
   },
   "source": [
    "When you run the file this way you tell it to use the current active Python to run the file. \n",
    "\n",
    "To make this script run like a command, add the following to the beginning of the file:\n",
    "\n",
    "```\n",
    "#!/usr/bin/env python\n",
    "```\n",
    "\n",
    "Then, make the script executable using the command:\n",
    "\n",
    "```\n",
    "$ chmod u+x hello.py\n",
    "```\n",
    "\n",
    "Now you will be able to run the script as:\n",
    "\n",
    "```\n",
    "$ ./hello.py\n",
    "```"
   ]
  },
  {
   "cell_type": "markdown",
   "metadata": {
    "slideshow": {
     "slide_type": "subslide"
    }
   },
   "source": [
    "If a script needs to be run by a specific version of python, and not the one normally found when you type `python` on the command line, you can specify the full path to that python executable:\n",
    "\n",
    "```\n",
    "#!/Users/myusername/anaconda/envs/base-py2/bin/python\n",
    "```\n",
    "\n",
    "To learn more about this Unix magic, lookup <a href=\"https://en.wikipedia.org/wiki/Shebang_(Unix)\">shebang</a>"
   ]
  },
  {
   "cell_type": "markdown",
   "metadata": {
    "slideshow": {
     "slide_type": "slide"
    }
   },
   "source": [
    "# Python and IPython interpreters"
   ]
  },
  {
   "cell_type": "markdown",
   "metadata": {
    "slideshow": {
     "slide_type": "subslide"
    }
   },
   "source": [
    "A more convenient way to work with Python is through the command line interpreter. \n",
    "The basic Python command line interpreter can be started by just typing:\n",
    "\n",
    "```\n",
    "python\n",
    "```\n",
    "\n",
    "This will create a prompt where you can issue python commands just like they were written in a script.  For example, a simple print statement:\n",
    "\n",
    "```\n",
    ">>> print('Hello World!')\n",
    "Hello World!\n",
    "```\n",
    "\n",
    "To quit the interpreter, just run `exit()` (or ctrl-D):\n",
    "\n",
    "```\n",
    ">>> exit()\n",
    "```"
   ]
  },
  {
   "cell_type": "markdown",
   "metadata": {
    "slideshow": {
     "slide_type": "subslide"
    }
   },
   "source": [
    "This interpreter is pretty basic, no bells and whistles. A much more user friendly version is the interactive python interpreter or:\n",
    "\n",
    "```\n",
    "ipython\n",
    "```\n",
    "\n",
    "This is the interpreter I use for most of my work. Here, as above, you can do a simple print statement:\n",
    "\n",
    "```\n",
    "In [1]: print('Hello World!')\n",
    "Hello World!\n",
    "```\n",
    "\n",
    "But you also have tab completion:\n",
    "\n",
    "(In the below, by +Tab I mean press the tab key.)\n",
    "```\n",
    ">>> pri+Tab\n",
    ">>> print\n",
    "```"
   ]
  },
  {
   "cell_type": "markdown",
   "metadata": {
    "slideshow": {
     "slide_type": "subslide"
    }
   },
   "source": [
    "IPython includes more fancy features to make working easier.  For example, p + up arrow will go through your history and only show you commands starting with p - try it and see!\n",
    "\n",
    "Let’s set an integer variable, and then examine the documentation for an integer. Putting a ``?`` after something in IPython and hitting enter will give you a info about that variable.\n",
    "\n",
    "```\n",
    "In [1]: a = 5\n",
    "In [2]: a?\n",
    "```\n",
    "\n",
    "Doing``<something>.+tab`` will list all of the “methods” of this objects or a bunch of thing Python inherently know about your variable (if you don't know what \"methods\" are, you will soon!)\n",
    "```\n",
    "In [1]: a = 5\n",
    "In [2]: a.+tab\n",
    "```"
   ]
  },
  {
   "cell_type": "markdown",
   "metadata": {
    "slideshow": {
     "slide_type": "slide"
    }
   },
   "source": [
    "# Jupyter notebooks\n",
    "\n",
    "A final way of using python is through the Jupyter Notebooks you see here. In your terminal fire up the notebook server:\n",
    "\n",
    "```\n",
    "jupyter notebook\n",
    "```\n",
    "\n",
    "This will pop up a web page. In the upper right corner click on the \"New\" tab and select the \"Python3\" option, which will start a notebook just like this one. Try out the exrcises above. Here you can also define functions, like this:"
   ]
  },
  {
   "cell_type": "code",
   "execution_count": 1,
   "metadata": {
    "collapsed": true,
    "slideshow": {
     "slide_type": "subslide"
    }
   },
   "outputs": [],
   "source": [
    "def hello(name = 'James'):\n",
    "    print('Hello {}!'.format(name))"
   ]
  },
  {
   "cell_type": "code",
   "execution_count": 2,
   "metadata": {
    "collapsed": false,
    "slideshow": {
     "slide_type": "subslide"
    }
   },
   "outputs": [
    {
     "name": "stdout",
     "output_type": "stream",
     "text": [
      "Hello !\n"
     ]
    }
   ],
   "source": [
    "hello(name='')"
   ]
  },
  {
   "cell_type": "code",
   "execution_count": null,
   "metadata": {
    "collapsed": true,
    "slideshow": {
     "slide_type": "skip"
    }
   },
   "outputs": [],
   "source": []
  },
  {
   "cell_type": "code",
   "execution_count": null,
   "metadata": {
    "collapsed": true,
    "slideshow": {
     "slide_type": "skip"
    }
   },
   "outputs": [],
   "source": []
  },
  {
   "cell_type": "code",
   "execution_count": null,
   "metadata": {
    "collapsed": true,
    "slideshow": {
     "slide_type": "skip"
    }
   },
   "outputs": [],
   "source": []
  },
  {
   "cell_type": "markdown",
   "metadata": {
    "slideshow": {
     "slide_type": "skip"
    }
   },
   "source": [
    "To actually show this as a presentation, the easiest thing is to do ``jupyter nbconvert --to slides <this file's name>.ipynb --post serve``"
   ]
  },
  {
   "cell_type": "raw",
   "metadata": {
    "slideshow": {
     "slide_type": "skip"
    }
   },
   "source": [
    "<!--<link rel=\"stylesheet\" href=\"reveal.js/css/theme/sky.css\" id=\"theme\">-->"
   ]
  }
 ],
 "metadata": {
  "celltoolbar": "Slideshow",
  "kernelspec": {
   "display_name": "Python 3",
   "language": "python",
   "name": "python3"
  },
  "language_info": {
   "codemirror_mode": {
    "name": "ipython",
    "version": 3
   },
   "file_extension": ".py",
   "mimetype": "text/x-python",
   "name": "python",
   "nbconvert_exporter": "python",
   "pygments_lexer": "ipython3",
   "version": "3.5.1"
  }
 },
 "nbformat": 4,
 "nbformat_minor": 0
}
