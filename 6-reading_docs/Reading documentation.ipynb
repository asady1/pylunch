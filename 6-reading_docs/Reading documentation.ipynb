{
 "cells": [
  {
   "cell_type": "markdown",
   "metadata": {
    "slideshow": {
     "slide_type": "slide"
    }
   },
   "source": [
    "# Reading Python documentation\n"
   ]
  },
  {
   "cell_type": "markdown",
   "metadata": {
    "collapsed": true,
    "slideshow": {
     "slide_type": "slide"
    }
   },
   "source": [
    "# What do docs typically look like?\n",
    "\n",
    "\n",
    "\n",
    "<img src=\"pydocs.png\" style=\"background:none; border:none; box-shadow:none; display:inline; margin:0; vertical-align:middle;\" width=\"75%\" height=\"75%\"> "
   ]
  },
  {
   "cell_type": "markdown",
   "metadata": {
    "slideshow": {
     "slide_type": "slide"
    }
   },
   "source": [
    "# Why do they always look like that?\n",
    "\n",
    "<img src=\"sphinxlogo.png\" style=\"background:none; border:none; box-shadow:none; display:inline; margin:0; vertical-align:middle;\" width=\"75%\"> \n",
    "\n",
    "\n",
    "<img src=\"sphinxmark.png\" style=\"background:none; border:none; box-shadow:none; display:inline; margin:0; vertical-align:middle;\"> "
   ]
  },
  {
   "cell_type": "markdown",
   "metadata": {
    "collapsed": true,
    "slideshow": {
     "slide_type": "fragment"
    }
   },
   "source": [
    "So knowledge you gain from one package often transfers to another"
   ]
  },
  {
   "cell_type": "markdown",
   "metadata": {
    "collapsed": true,
    "slideshow": {
     "slide_type": "fragment"
    }
   },
   "source": [
    "(And it can be useful to know how to *write* them too - see next session)"
   ]
  },
  {
   "cell_type": "markdown",
   "metadata": {
    "slideshow": {
     "slide_type": "slide"
    }
   },
   "source": [
    "# Numpy's Documentation\n",
    "\n",
    "https://docs.scipy.org/doc/numpy/\n",
    "\n",
    "1. Distinguishes between \"user guide\" (https://docs.scipy.org/doc/numpy/user/index.html), which is meant to be read (\"narrative\" docs)\n",
    "2. And \"reference\" (https://docs.scipy.org/doc/numpy/reference/index.html) - often just a list of functions (e.g. https://docs.scipy.org/doc/numpy/reference/routines.array-creation.html)\n",
    "3. This is common where there's a straightforward single thing to work with (e.g., `numpy` arrays)\n",
    "4. There's also a contributor guide (but we won't dwell on that)"
   ]
  },
  {
   "cell_type": "markdown",
   "metadata": {
    "slideshow": {
     "slide_type": "slide"
    }
   },
   "source": [
    "# Astropy's Docs \n",
    "\n",
    "## (and many affiliated packages)\n",
    "\n",
    "1. If it's not the main web site, you can usually find it there: http://www.astropy.org\n",
    "2. But be sure you're on the stable version's docs (http://docs.astropy.org/), but not the developer docs (http://devdocs.astropy.org/), or some other version (see the upper-left)\n",
    "3. Divided up by *topic*: `units`, `coordinates`, etc.\n",
    "4. Within *these*, there's a difference between narrative docs (e.g. http://docs.astropy.org/en/stable/coordinates/skycoord.html) and API (e.g. http://docs.astropy.org/en/stable/coordinates/index.html#reference-api).\n",
    "5. The API includes both functions *and* classes.  Sometimes it is the only place something important is listed!\n",
    "6. There's a \"developer\" guide that is offset from the user docs, but still a part of it because sometimes it's useful."
   ]
  },
  {
   "cell_type": "markdown",
   "metadata": {
    "slideshow": {
     "slide_type": "slide"
    }
   },
   "source": [
    "# Sphinx *itself*\n",
    "\n",
    "1. The main site *is* the docs: http://www.sphinx-doc.org/\n",
    "2. There's a quick start (http://www.sphinx-doc.org/en/1.4.8/tutorial.html), and \"Contents\" (http://www.sphinx-doc.org/en/1.4.8/contents.html), but no clearly distinct API"
   ]
  },
  {
   "cell_type": "markdown",
   "metadata": {
    "slideshow": {
     "slide_type": "slide"
    }
   },
   "source": [
    "# Stack Overflow\n",
    "\n",
    "http://stackoverflow.com/questions/tagged/python"
   ]
  }
 ],
 "metadata": {
  "anaconda-cloud": {},
  "celltoolbar": "Slideshow",
  "kernelspec": {
   "display_name": "Python [default]",
   "language": "python",
   "name": "python3"
  },
  "language_info": {
   "codemirror_mode": {
    "name": "ipython",
    "version": 3
   },
   "file_extension": ".py",
   "mimetype": "text/x-python",
   "name": "python",
   "nbconvert_exporter": "python",
   "pygments_lexer": "ipython3",
   "version": "3.5.2"
  }
 },
 "nbformat": 4,
 "nbformat_minor": 0
}
