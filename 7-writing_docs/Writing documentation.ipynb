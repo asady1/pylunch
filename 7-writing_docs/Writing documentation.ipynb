{
 "cells": [
  {
   "cell_type": "markdown",
   "metadata": {
    "slideshow": {
     "slide_type": "slide"
    }
   },
   "source": [
    "# Writing Python documentation\n"
   ]
  },
  {
   "cell_type": "markdown",
   "metadata": {
    "slideshow": {
     "slide_type": "slide"
    }
   },
   "source": [
    "# What's the goal of documenting code?\n",
    "\n",
    "* For your future self\n",
    "* For the poor grad student who might one day need to read your code\n",
    "* For the wider community\n",
    "* Good/bad example from my code "
   ]
  },
  {
   "cell_type": "markdown",
   "metadata": {
    "slideshow": {
     "slide_type": "slide"
    }
   },
   "source": [
    "# Lets talk about \"Docstrings\""
   ]
  },
  {
   "cell_type": "code",
   "execution_count": 1,
   "metadata": {
    "collapsed": true,
    "slideshow": {
     "slide_type": "-"
    }
   },
   "outputs": [],
   "source": [
    "def square(val):\n",
    "    return 4*val"
   ]
  },
  {
   "cell_type": "code",
   "execution_count": 2,
   "metadata": {
    "collapsed": true,
    "slideshow": {
     "slide_type": "-"
    }
   },
   "outputs": [],
   "source": [
    "def square(val):\n",
    "    \"\"\"\n",
    "    The perimeter of a square with size ``val``.\n",
    "    \"\"\"\n",
    "    return 4*val"
   ]
  },
  {
   "cell_type": "markdown",
   "metadata": {
    "slideshow": {
     "slide_type": "subslide"
    }
   },
   "source": [
    "## Why is this A Good Thing™?"
   ]
  },
  {
   "cell_type": "markdown",
   "metadata": {
    "slideshow": {
     "slide_type": "fragment"
    }
   },
   "source": [
    "* It lets you easily document *anything* in Python:"
   ]
  },
  {
   "cell_type": "code",
   "execution_count": 3,
   "metadata": {
    "collapsed": true,
    "slideshow": {
     "slide_type": "-"
    }
   },
   "outputs": [],
   "source": [
    "# In the notebook this will pop up a window with the docstring\n",
    "square?"
   ]
  },
  {
   "cell_type": "markdown",
   "metadata": {
    "slideshow": {
     "slide_type": "fragment"
    }
   },
   "source": [
    "* It lets you document as you write the code."
   ]
  },
  {
   "cell_type": "markdown",
   "metadata": {
    "slideshow": {
     "slide_type": "fragment"
    }
   },
   "source": [
    "* This means with realtively little discipline you might actually *do it*."
   ]
  },
  {
   "cell_type": "markdown",
   "metadata": {
    "slideshow": {
     "slide_type": "fragment"
    }
   },
   "source": [
    "* The docs are actually visible from the code:"
   ]
  },
  {
   "cell_type": "code",
   "execution_count": 4,
   "metadata": {
    "collapsed": false,
    "slideshow": {
     "slide_type": "-"
    }
   },
   "outputs": [
    {
     "name": "stdout",
     "output_type": "stream",
     "text": [
      "\n",
      "    The perimeter of a square with size ``val``.\n",
      "    \n"
     ]
    }
   ],
   "source": [
    "print(square.__doc__)"
   ]
  },
  {
   "cell_type": "markdown",
   "metadata": {
    "slideshow": {
     "slide_type": "-"
    }
   },
   "source": [
    "Which allows all kinds of magic."
   ]
  },
  {
   "cell_type": "markdown",
   "metadata": {
    "slideshow": {
     "slide_type": "slide"
    }
   },
   "source": [
    "# Even with just docstrings you make big progress!  Don't discount that.\n",
    "\n",
    "Use them in every function you write, and put them at the top of every .py file:"
   ]
  },
  {
   "cell_type": "code",
   "execution_count": 5,
   "metadata": {
    "collapsed": false,
    "slideshow": {
     "slide_type": "-"
    }
   },
   "outputs": [
    {
     "name": "stdout",
     "output_type": "stream",
     "text": [
      "\n",
      "Astropy is a package intended to contain core functionality and some\n",
      "common tools needed for performing astronomy and astrophysics research with\n",
      "Python. It also provides an index for other astronomy packages and tools for\n",
      "managing them.\n",
      "\n"
     ]
    }
   ],
   "source": [
    "import astropy\n",
    "print(astropy.__doc__)"
   ]
  },
  {
   "cell_type": "markdown",
   "metadata": {
    "slideshow": {
     "slide_type": "slide"
    }
   },
   "source": [
    "# Other kinds of \"documentation\"\n",
    "\n"
   ]
  },
  {
   "cell_type": "markdown",
   "metadata": {
    "slideshow": {
     "slide_type": "fragment"
    }
   },
   "source": [
    "* A package/file layout that's thought-out\n"
   ]
  },
  {
   "cell_type": "markdown",
   "metadata": {
    "slideshow": {
     "slide_type": "fragment"
    }
   },
   "source": [
    "* Code comments\n"
   ]
  },
  {
   "cell_type": "markdown",
   "metadata": {
    "slideshow": {
     "slide_type": "fragment"
    }
   },
   "source": [
    "* Consistent code style\n",
    "  * Recommended: [PEP8](https://www.python.org/dev/peps/pep-0008/)\n",
    "  * This will do *wonders* for your code's readability\n",
    "  * (But bend the rules when it makes sense - otherwise'll make you crazy)"
   ]
  },
  {
   "cell_type": "markdown",
   "metadata": {
    "slideshow": {
     "slide_type": "slide"
    }
   },
   "source": [
    "# How can you take it one step further?\n",
    "\n",
    "<img src=\"sphinxlogo.png\" style=\"background:none; border:none; box-shadow:none; display:inline; margin:0; vertical-align:middle;\" width=\"75%\"> \n",
    "\n",
    "### http://www.sphinx-doc.org/"
   ]
  },
  {
   "cell_type": "markdown",
   "metadata": {
    "slideshow": {
     "slide_type": "fragment"
    }
   },
   "source": [
    "* Sphinx is a documentation *generator*"
   ]
  },
  {
   "cell_type": "markdown",
   "metadata": {
    "slideshow": {
     "slide_type": "-"
    }
   },
   "source": [
    "Example of rest -> html"
   ]
  },
  {
   "cell_type": "markdown",
   "metadata": {
    "slideshow": {
     "slide_type": "fragment"
    }
   },
   "source": [
    "* It also has a bunch of *extensions* to do that to docstrings"
   ]
  },
  {
   "cell_type": "markdown",
   "metadata": {
    "slideshow": {
     "slide_type": "-"
    }
   },
   "source": [
    "Sample for docstring"
   ]
  },
  {
   "cell_type": "markdown",
   "metadata": {
    "slideshow": {
     "slide_type": "slide"
    }
   },
   "source": [
    "# How do you write Sphinx docs?"
   ]
  },
  {
   "cell_type": "markdown",
   "metadata": {
    "slideshow": {
     "slide_type": "subslide"
    }
   },
   "source": [
    "## ReST (ReStructured Text)\n",
    "\n",
    "Actually developed *before* Sphinx narrowly focused on Python docs\n",
    "\n",
    "A good primer: http://www.sphinx-doc.org/en/1.5/rest.html"
   ]
  },
  {
   "cell_type": "markdown",
   "metadata": {
    "slideshow": {
     "slide_type": "-"
    }
   },
   "source": [
    "show example of .rst -> rendered page"
   ]
  },
  {
   "cell_type": "markdown",
   "metadata": {
    "slideshow": {
     "slide_type": "subslide"
    }
   },
   "source": [
    "## How do you get sphinx working for your code?"
   ]
  },
  {
   "cell_type": "markdown",
   "metadata": {
    "slideshow": {
     "slide_type": "fragment"
    }
   },
   "source": [
    "* Follow the Sphinx quick-start: http://www.sphinx-doc.org/en/1.5/tutorial.html\n",
    "  * Straightforward to start with, lots of options\n",
    "  * Requires choosing between those options, have to communicate structure to other contributors\n",
    "  * Does not come with a straightforward/automatic \"copy over my docstrings\" tool"
   ]
  },
  {
   "cell_type": "markdown",
   "metadata": {
    "collapsed": true,
    "slideshow": {
     "slide_type": "fragment"
    }
   },
   "source": [
    "* Use the Astropy affiliated package template (https://github.com/astropy/package-template)\n",
    "  * Has very specific step-by-step instructions on how to get up and running\n",
    "  * Follows a fairly standard layout, sphinx works out-of-the-box - just type ``python setup.py build_docs``\n",
    "  * All you have to do to get docstrings is \"``.. automodapi:: yourpkg``\"\n",
    "  * Has an advanced(/complex) set of options for how to make your docstrings pretty, and an ecosystem (Astropy) with lots of copy-and-paste-able examples.\n",
    "  * (Comes with lots of other stuff that's not documentation but might be useful for you)"
   ]
  },
  {
   "cell_type": "code",
   "execution_count": null,
   "metadata": {
    "collapsed": true
   },
   "outputs": [],
   "source": []
  }
 ],
 "metadata": {
  "anaconda-cloud": {},
  "celltoolbar": "Slideshow",
  "kernelspec": {
   "display_name": "Python [default]",
   "language": "python",
   "name": "python3"
  },
  "language_info": {
   "codemirror_mode": {
    "name": "ipython",
    "version": 3
   },
   "file_extension": ".py",
   "mimetype": "text/x-python",
   "name": "python",
   "nbconvert_exporter": "python",
   "pygments_lexer": "ipython3",
   "version": "3.5.2"
  }
 },
 "nbformat": 4,
 "nbformat_minor": 0
}
