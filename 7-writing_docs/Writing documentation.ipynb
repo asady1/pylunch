{
 "cells": [
  {
   "cell_type": "markdown",
   "metadata": {
    "slideshow": {
     "slide_type": "slide"
    }
   },
   "source": [
    "# Writing Python documentation\n"
   ]
  },
  {
   "cell_type": "markdown",
   "metadata": {
    "slideshow": {
     "slide_type": "slide"
    }
   },
   "source": [
    "# What's the goal of documenting code?"
   ]
  },
  {
   "cell_type": "code",
   "execution_count": 1,
   "metadata": {
    "collapsed": true,
    "slideshow": {
     "slide_type": "-"
    }
   },
   "outputs": [],
   "source": [
    "def T2rgb(Ts, fn='smj10q.csv', n=None, modw=None):\n",
    "    ..."
   ]
  },
  {
   "cell_type": "code",
   "execution_count": 2,
   "metadata": {
    "collapsed": true,
    "slideshow": {
     "slide_type": "-"
    }
   },
   "outputs": [],
   "source": [
    "def Temp_to_rgb(temps, eye_response_fn='smj10q.csv', normed_at=None, modulate_with=None):\n",
    "    \"\"\"\n",
    "    Converts an array of blackbody temperatures to RGB.\n",
    "    \n",
    "    Parameters\n",
    "    ----------\n",
    "    temps: numpy array\n",
    "        The temperatures to convert\n",
    "    eye_response_fn : str\n",
    "        Path to the file with the human eye cone response functions\n",
    "    normed_at: float or None\n",
    "        The temperature at which the responses should be unity, or None to\n",
    "        apply no rescaling of the response functions.\n",
    "    modulate_with: numpy array or None\n",
    "        A rescaling factor to multiply the output cones by, or None to do no\n",
    "        rescaling of the output.\n",
    "        \n",
    "    Returns\n",
    "    -------\n",
    "    rgb : numpy array\n",
    "        The output RGB values. Has shape (3, ... shape of ``temps`` ...)\n",
    "    \"\"\"\n",
    "    ..."
   ]
  },
  {
   "cell_type": "markdown",
   "metadata": {
    "slideshow": {
     "slide_type": "subslide"
    }
   },
   "source": [
    "# What's the goal of documenting code?\n",
    "\n",
    "* \"Science\" (or \"dirty\") mode\n",
    "    * For future you\n",
    "    * For reproducibility\n",
    "    * For the poor grad student who might one day need to read your code\n",
    "* For your future self\n",
    "* For the poor grad student/postdoc who might one day need to read your code"
   ]
  },
  {
   "cell_type": "markdown",
   "metadata": {
    "slideshow": {
     "slide_type": "fragment"
    }
   },
   "source": [
    "* Public/\"Developer\" mode\n",
    "    * For others: to provide background\n",
    "    * To get people to help you work on it"
   ]
  },
  {
   "cell_type": "markdown",
   "metadata": {
    "slideshow": {
     "slide_type": "slide"
    }
   },
   "source": [
    "# Lets talk about \"Docstrings\""
   ]
  },
  {
   "cell_type": "code",
   "execution_count": 3,
   "metadata": {
    "collapsed": true,
    "slideshow": {
     "slide_type": "-"
    }
   },
   "outputs": [],
   "source": [
    "def square(val):\n",
    "    return 4*val"
   ]
  },
  {
   "cell_type": "code",
   "execution_count": 4,
   "metadata": {
    "collapsed": true,
    "slideshow": {
     "slide_type": "fragment"
    }
   },
   "outputs": [],
   "source": [
    "def square(val):\n",
    "    \"\"\"\n",
    "    The perimeter of a square with size ``val``.\n",
    "    \"\"\"\n",
    "    return 4*val"
   ]
  },
  {
   "cell_type": "markdown",
   "metadata": {
    "slideshow": {
     "slide_type": "subslide"
    }
   },
   "source": [
    "## Why is this A Good Thing™?"
   ]
  },
  {
   "cell_type": "code",
   "execution_count": 5,
   "metadata": {
    "collapsed": true,
    "slideshow": {
     "slide_type": "-"
    }
   },
   "outputs": [],
   "source": [
    "def square(val):\n",
    "    \"\"\"\n",
    "    The perimeter of a square with size ``val``.\n",
    "    \"\"\"\n",
    "    return 4*val"
   ]
  },
  {
   "cell_type": "markdown",
   "metadata": {
    "slideshow": {
     "slide_type": "fragment"
    }
   },
   "source": [
    "* It lets you easily document *anything* in Python:"
   ]
  },
  {
   "cell_type": "code",
   "execution_count": 6,
   "metadata": {
    "collapsed": true,
    "slideshow": {
     "slide_type": "-"
    }
   },
   "outputs": [],
   "source": [
    "# In the notebook this will pop up a window with the docstring\n",
    "square?"
   ]
  },
  {
   "cell_type": "markdown",
   "metadata": {
    "slideshow": {
     "slide_type": "fragment"
    }
   },
   "source": [
    "* It lets you document as you write the code."
   ]
  },
  {
   "cell_type": "markdown",
   "metadata": {
    "slideshow": {
     "slide_type": "fragment"
    }
   },
   "source": [
    "* This means with realtively little discipline you might actually *do it*."
   ]
  },
  {
   "cell_type": "markdown",
   "metadata": {
    "slideshow": {
     "slide_type": "fragment"
    }
   },
   "source": [
    "* The docs are actually visible from the code:"
   ]
  },
  {
   "cell_type": "code",
   "execution_count": 7,
   "metadata": {
    "collapsed": false,
    "slideshow": {
     "slide_type": "-"
    }
   },
   "outputs": [
    {
     "name": "stdout",
     "output_type": "stream",
     "text": [
      "\n",
      "    The perimeter of a square with size ``val``.\n",
      "    \n"
     ]
    }
   ],
   "source": [
    "print(square.__doc__)"
   ]
  },
  {
   "cell_type": "markdown",
   "metadata": {
    "slideshow": {
     "slide_type": "-"
    }
   },
   "source": [
    "Which allows all kinds of magic."
   ]
  },
  {
   "cell_type": "markdown",
   "metadata": {
    "slideshow": {
     "slide_type": "slide"
    }
   },
   "source": [
    "# Even with just docstrings you make big progress in readability!\n",
    "\n",
    "Use them in every function you write, and put them at the top of a .py file, giving things like:"
   ]
  },
  {
   "cell_type": "code",
   "execution_count": 8,
   "metadata": {
    "collapsed": false,
    "slideshow": {
     "slide_type": "-"
    }
   },
   "outputs": [
    {
     "name": "stdout",
     "output_type": "stream",
     "text": [
      "\n",
      "Astropy is a package intended to contain core functionality and some\n",
      "common tools needed for performing astronomy and astrophysics research with\n",
      "Python. It also provides an index for other astronomy packages and tools for\n",
      "managing them.\n",
      "\n"
     ]
    }
   ],
   "source": [
    "import astropy\n",
    "print(astropy.__doc__)"
   ]
  },
  {
   "cell_type": "markdown",
   "metadata": {
    "slideshow": {
     "slide_type": "subslide"
    }
   },
   "source": [
    "# And there are other kinds of \"documentation\" that don't require a tool\n",
    "\n"
   ]
  },
  {
   "cell_type": "markdown",
   "metadata": {
    "slideshow": {
     "slide_type": "fragment"
    }
   },
   "source": [
    "* A package/file layout that's thought-out\n"
   ]
  },
  {
   "cell_type": "markdown",
   "metadata": {
    "slideshow": {
     "slide_type": "fragment"
    }
   },
   "source": [
    "* Code comments\n"
   ]
  },
  {
   "cell_type": "markdown",
   "metadata": {
    "slideshow": {
     "slide_type": "fragment"
    }
   },
   "source": [
    "* Consistent code style\n",
    "  * Recommended: [PEP8](https://www.python.org/dev/peps/pep-0008/)\n",
    "  * This will do *wonders* for your code's readability\n",
    "  * (But bend the rules when it makes sense - otherwise'll make you crazy)"
   ]
  },
  {
   "cell_type": "markdown",
   "metadata": {
    "slideshow": {
     "slide_type": "slide"
    }
   },
   "source": [
    "# How can you take it one step further?\n",
    "\n",
    "<img src=\"sphinxlogo.png\" style=\"background:none; border:none; box-shadow:none; display:inline; margin:0; vertical-align:middle;\" width=\"75%\"> \n",
    "\n",
    "### http://www.sphinx-doc.org/"
   ]
  },
  {
   "cell_type": "markdown",
   "metadata": {
    "slideshow": {
     "slide_type": "fragment"
    }
   },
   "source": [
    "* Sphinx is a documentation *generator*\n",
    "    * Meaning it takes a bunch of files describing your code and puts them together into a web site, PDF, TeX, etc."
   ]
  },
  {
   "cell_type": "markdown",
   "metadata": {
    "slideshow": {
     "slide_type": "fragment"
    }
   },
   "source": [
    "* It also has a bunch of *extensions* to do that to docstrings"
   ]
  },
  {
   "cell_type": "markdown",
   "metadata": {
    "slideshow": {
     "slide_type": "fragment"
    }
   },
   "source": [
    "* The real power of Sphinx is that it combines these two: you can write both narrative docs *and* include docstrings."
   ]
  },
  {
   "cell_type": "markdown",
   "metadata": {
    "slideshow": {
     "slide_type": "subslide"
    }
   },
   "source": [
    "<img src=\"docstring_html_example.png\" style=\"background:none; border:none; box-shadow:none; display:inline; margin:0; vertical-align:middle;\" width=\"150%\"> "
   ]
  },
  {
   "cell_type": "markdown",
   "metadata": {
    "slideshow": {
     "slide_type": "fragment"
    }
   },
   "source": [
    "See example at http://docs.astropy.org/en/stable/nddata/index.html"
   ]
  },
  {
   "cell_type": "markdown",
   "metadata": {
    "slideshow": {
     "slide_type": "slide"
    }
   },
   "source": [
    "# How do you write Sphinx docs?"
   ]
  },
  {
   "cell_type": "markdown",
   "metadata": {
    "slideshow": {
     "slide_type": "subslide"
    }
   },
   "source": [
    "## ReST (ReStructured Text)\n",
    "\n",
    "Actually developed *before* Sphinx narrowly focused on Python docs\n",
    "\n",
    "A good primer: http://www.sphinx-doc.org/en/1.5/rest.html"
   ]
  },
  {
   "cell_type": "markdown",
   "metadata": {
    "slideshow": {
     "slide_type": "subslide"
    }
   },
   "source": [
    "### This ReST file"
   ]
  },
  {
   "cell_type": "code",
   "execution_count": 9,
   "metadata": {
    "collapsed": false,
    "scrolled": true,
    "slideshow": {
     "slide_type": "-"
    }
   },
   "outputs": [
    {
     "data": {
      "text/markdown": [
       "```\n",
       "This is a paragraph.  It's quite\n",
       "short.\n",
       "\n",
       "   This paragraph will result in an indented block of\n",
       "   text, typically used for quoting other text.\n",
       "\n",
       "1. This is a numbered item\n",
       "2. As is this\n",
       "\n",
       "This is inline code: ``np.random.randn(100)``\n",
       "\n",
       "And this is a block of code::\n",
       "\n",
       "    a = np.random.randn(100)\n",
       "    plt.plot(a)\n",
       "\n",
       "And here's a nice image:\n",
       "\n",
       ".. image:: astropylogo.png\n",
       "\n",
       "```"
      ],
      "text/plain": [
       "<IPython.core.display.Markdown object>"
      ]
     },
     "metadata": {},
     "output_type": "display_data"
    }
   ],
   "source": [
    "from IPython.core.display import display, Markdown\n",
    "\n",
    "with open('rest_example.rst') as f:\n",
    "    display(Markdown('```\\n'+f.read()+'\\n```'))"
   ]
  },
  {
   "cell_type": "markdown",
   "metadata": {
    "slideshow": {
     "slide_type": "subslide"
    }
   },
   "source": [
    "### Renders to:"
   ]
  },
  {
   "cell_type": "code",
   "execution_count": 10,
   "metadata": {
    "collapsed": false
   },
   "outputs": [
    {
     "data": {
      "text/html": [
       "<?xml version=\"1.0\" encoding=\"utf-8\" ?>\n",
       "<!DOCTYPE html PUBLIC \"-//W3C//DTD XHTML 1.0 Transitional//EN\" \"http://www.w3.org/TR/xhtml1/DTD/xhtml1-transitional.dtd\">\n",
       "<html xmlns=\"http://www.w3.org/1999/xhtml\" xml:lang=\"en\" lang=\"en\">\n",
       "<head>\n",
       "<meta http-equiv=\"Content-Type\" content=\"text/html; charset=utf-8\" />\n",
       "<meta name=\"generator\" content=\"Docutils 0.12: http://docutils.sourceforge.net/\" />\n",
       "<title></title>\n",
       "<style type=\"text/css\">\n",
       "\n",
       "/*\n",
       ":Author: David Goodger (goodger@python.org)\n",
       ":Id: $Id: html4css1.css 7614 2013-02-21 15:55:51Z milde $\n",
       ":Copyright: This stylesheet has been placed in the public domain.\n",
       "\n",
       "Default cascading style sheet for the HTML output of Docutils.\n",
       "\n",
       "See http://docutils.sf.net/docs/howto/html-stylesheets.html for how to\n",
       "customize this style sheet.\n",
       "*/\n",
       "\n",
       "/* used to remove borders from tables and images */\n",
       ".borderless, table.borderless td, table.borderless th {\n",
       "  border: 0 }\n",
       "\n",
       "table.borderless td, table.borderless th {\n",
       "  /* Override padding for \"table.docutils td\" with \"! important\".\n",
       "     The right padding separates the table cells. */\n",
       "  padding: 0 0.5em 0 0 ! important }\n",
       "\n",
       ".first {\n",
       "  /* Override more specific margin styles with \"! important\". */\n",
       "  margin-top: 0 ! important }\n",
       "\n",
       ".last, .with-subtitle {\n",
       "  margin-bottom: 0 ! important }\n",
       "\n",
       ".hidden {\n",
       "  display: none }\n",
       "\n",
       "a.toc-backref {\n",
       "  text-decoration: none ;\n",
       "  color: black }\n",
       "\n",
       "blockquote.epigraph {\n",
       "  margin: 2em 5em ; }\n",
       "\n",
       "dl.docutils dd {\n",
       "  margin-bottom: 0.5em }\n",
       "\n",
       "object[type=\"image/svg+xml\"], object[type=\"application/x-shockwave-flash\"] {\n",
       "  overflow: hidden;\n",
       "}\n",
       "\n",
       "/* Uncomment (and remove this text!) to get bold-faced definition list terms\n",
       "dl.docutils dt {\n",
       "  font-weight: bold }\n",
       "*/\n",
       "\n",
       "div.abstract {\n",
       "  margin: 2em 5em }\n",
       "\n",
       "div.abstract p.topic-title {\n",
       "  font-weight: bold ;\n",
       "  text-align: center }\n",
       "\n",
       "div.admonition, div.attention, div.caution, div.danger, div.error,\n",
       "div.hint, div.important, div.note, div.tip, div.warning {\n",
       "  margin: 2em ;\n",
       "  border: medium outset ;\n",
       "  padding: 1em }\n",
       "\n",
       "div.admonition p.admonition-title, div.hint p.admonition-title,\n",
       "div.important p.admonition-title, div.note p.admonition-title,\n",
       "div.tip p.admonition-title {\n",
       "  font-weight: bold ;\n",
       "  font-family: sans-serif }\n",
       "\n",
       "div.attention p.admonition-title, div.caution p.admonition-title,\n",
       "div.danger p.admonition-title, div.error p.admonition-title,\n",
       "div.warning p.admonition-title, .code .error {\n",
       "  color: red ;\n",
       "  font-weight: bold ;\n",
       "  font-family: sans-serif }\n",
       "\n",
       "/* Uncomment (and remove this text!) to get reduced vertical space in\n",
       "   compound paragraphs.\n",
       "div.compound .compound-first, div.compound .compound-middle {\n",
       "  margin-bottom: 0.5em }\n",
       "\n",
       "div.compound .compound-last, div.compound .compound-middle {\n",
       "  margin-top: 0.5em }\n",
       "*/\n",
       "\n",
       "div.dedication {\n",
       "  margin: 2em 5em ;\n",
       "  text-align: center ;\n",
       "  font-style: italic }\n",
       "\n",
       "div.dedication p.topic-title {\n",
       "  font-weight: bold ;\n",
       "  font-style: normal }\n",
       "\n",
       "div.figure {\n",
       "  margin-left: 2em ;\n",
       "  margin-right: 2em }\n",
       "\n",
       "div.footer, div.header {\n",
       "  clear: both;\n",
       "  font-size: smaller }\n",
       "\n",
       "div.line-block {\n",
       "  display: block ;\n",
       "  margin-top: 1em ;\n",
       "  margin-bottom: 1em }\n",
       "\n",
       "div.line-block div.line-block {\n",
       "  margin-top: 0 ;\n",
       "  margin-bottom: 0 ;\n",
       "  margin-left: 1.5em }\n",
       "\n",
       "div.sidebar {\n",
       "  margin: 0 0 0.5em 1em ;\n",
       "  border: medium outset ;\n",
       "  padding: 1em ;\n",
       "  background-color: #ffffee ;\n",
       "  width: 40% ;\n",
       "  float: right ;\n",
       "  clear: right }\n",
       "\n",
       "div.sidebar p.rubric {\n",
       "  font-family: sans-serif ;\n",
       "  font-size: medium }\n",
       "\n",
       "div.system-messages {\n",
       "  margin: 5em }\n",
       "\n",
       "div.system-messages h1 {\n",
       "  color: red }\n",
       "\n",
       "div.system-message {\n",
       "  border: medium outset ;\n",
       "  padding: 1em }\n",
       "\n",
       "div.system-message p.system-message-title {\n",
       "  color: red ;\n",
       "  font-weight: bold }\n",
       "\n",
       "div.topic {\n",
       "  margin: 2em }\n",
       "\n",
       "h1.section-subtitle, h2.section-subtitle, h3.section-subtitle,\n",
       "h4.section-subtitle, h5.section-subtitle, h6.section-subtitle {\n",
       "  margin-top: 0.4em }\n",
       "\n",
       "h1.title {\n",
       "  text-align: center }\n",
       "\n",
       "h2.subtitle {\n",
       "  text-align: center }\n",
       "\n",
       "hr.docutils {\n",
       "  width: 75% }\n",
       "\n",
       "img.align-left, .figure.align-left, object.align-left {\n",
       "  clear: left ;\n",
       "  float: left ;\n",
       "  margin-right: 1em }\n",
       "\n",
       "img.align-right, .figure.align-right, object.align-right {\n",
       "  clear: right ;\n",
       "  float: right ;\n",
       "  margin-left: 1em }\n",
       "\n",
       "img.align-center, .figure.align-center, object.align-center {\n",
       "  display: block;\n",
       "  margin-left: auto;\n",
       "  margin-right: auto;\n",
       "}\n",
       "\n",
       ".align-left {\n",
       "  text-align: left }\n",
       "\n",
       ".align-center {\n",
       "  clear: both ;\n",
       "  text-align: center }\n",
       "\n",
       ".align-right {\n",
       "  text-align: right }\n",
       "\n",
       "/* reset inner alignment in figures */\n",
       "div.align-right {\n",
       "  text-align: inherit }\n",
       "\n",
       "/* div.align-center * { */\n",
       "/*   text-align: left } */\n",
       "\n",
       "ol.simple, ul.simple {\n",
       "  margin-bottom: 1em }\n",
       "\n",
       "ol.arabic {\n",
       "  list-style: decimal }\n",
       "\n",
       "ol.loweralpha {\n",
       "  list-style: lower-alpha }\n",
       "\n",
       "ol.upperalpha {\n",
       "  list-style: upper-alpha }\n",
       "\n",
       "ol.lowerroman {\n",
       "  list-style: lower-roman }\n",
       "\n",
       "ol.upperroman {\n",
       "  list-style: upper-roman }\n",
       "\n",
       "p.attribution {\n",
       "  text-align: right ;\n",
       "  margin-left: 50% }\n",
       "\n",
       "p.caption {\n",
       "  font-style: italic }\n",
       "\n",
       "p.credits {\n",
       "  font-style: italic ;\n",
       "  font-size: smaller }\n",
       "\n",
       "p.label {\n",
       "  white-space: nowrap }\n",
       "\n",
       "p.rubric {\n",
       "  font-weight: bold ;\n",
       "  font-size: larger ;\n",
       "  color: maroon ;\n",
       "  text-align: center }\n",
       "\n",
       "p.sidebar-title {\n",
       "  font-family: sans-serif ;\n",
       "  font-weight: bold ;\n",
       "  font-size: larger }\n",
       "\n",
       "p.sidebar-subtitle {\n",
       "  font-family: sans-serif ;\n",
       "  font-weight: bold }\n",
       "\n",
       "p.topic-title {\n",
       "  font-weight: bold }\n",
       "\n",
       "pre.address {\n",
       "  margin-bottom: 0 ;\n",
       "  margin-top: 0 ;\n",
       "  font: inherit }\n",
       "\n",
       "pre.literal-block, pre.doctest-block, pre.math, pre.code {\n",
       "  margin-left: 2em ;\n",
       "  margin-right: 2em }\n",
       "\n",
       "pre.code .ln { color: grey; } /* line numbers */\n",
       "pre.code, code { background-color: #eeeeee }\n",
       "pre.code .comment, code .comment { color: #5C6576 }\n",
       "pre.code .keyword, code .keyword { color: #3B0D06; font-weight: bold }\n",
       "pre.code .literal.string, code .literal.string { color: #0C5404 }\n",
       "pre.code .name.builtin, code .name.builtin { color: #352B84 }\n",
       "pre.code .deleted, code .deleted { background-color: #DEB0A1}\n",
       "pre.code .inserted, code .inserted { background-color: #A3D289}\n",
       "\n",
       "span.classifier {\n",
       "  font-family: sans-serif ;\n",
       "  font-style: oblique }\n",
       "\n",
       "span.classifier-delimiter {\n",
       "  font-family: sans-serif ;\n",
       "  font-weight: bold }\n",
       "\n",
       "span.interpreted {\n",
       "  font-family: sans-serif }\n",
       "\n",
       "span.option {\n",
       "  white-space: nowrap }\n",
       "\n",
       "span.pre {\n",
       "  white-space: pre }\n",
       "\n",
       "span.problematic {\n",
       "  color: red }\n",
       "\n",
       "span.section-subtitle {\n",
       "  /* font-size relative to parent (h1..h6 element) */\n",
       "  font-size: 80% }\n",
       "\n",
       "table.citation {\n",
       "  border-left: solid 1px gray;\n",
       "  margin-left: 1px }\n",
       "\n",
       "table.docinfo {\n",
       "  margin: 2em 4em }\n",
       "\n",
       "table.docutils {\n",
       "  margin-top: 0.5em ;\n",
       "  margin-bottom: 0.5em }\n",
       "\n",
       "table.footnote {\n",
       "  border-left: solid 1px black;\n",
       "  margin-left: 1px }\n",
       "\n",
       "table.docutils td, table.docutils th,\n",
       "table.docinfo td, table.docinfo th {\n",
       "  padding-left: 0.5em ;\n",
       "  padding-right: 0.5em ;\n",
       "  vertical-align: top }\n",
       "\n",
       "table.docutils th.field-name, table.docinfo th.docinfo-name {\n",
       "  font-weight: bold ;\n",
       "  text-align: left ;\n",
       "  white-space: nowrap ;\n",
       "  padding-left: 0 }\n",
       "\n",
       "/* \"booktabs\" style (no vertical lines) */\n",
       "table.docutils.booktabs {\n",
       "  border: 0px;\n",
       "  border-top: 2px solid;\n",
       "  border-bottom: 2px solid;\n",
       "  border-collapse: collapse;\n",
       "}\n",
       "table.docutils.booktabs * {\n",
       "  border: 0px;\n",
       "}\n",
       "table.docutils.booktabs th {\n",
       "  border-bottom: thin solid;\n",
       "  text-align: left;\n",
       "}\n",
       "\n",
       "h1 tt.docutils, h2 tt.docutils, h3 tt.docutils,\n",
       "h4 tt.docutils, h5 tt.docutils, h6 tt.docutils {\n",
       "  font-size: 100% }\n",
       "\n",
       "ul.auto-toc {\n",
       "  list-style-type: none }\n",
       "\n",
       "</style>\n",
       "</head>\n",
       "<body>\n",
       "<div class=\"document\">\n",
       "\n",
       "\n",
       "<p>This is a paragraph.  It's quite\n",
       "short.</p>\n",
       "<blockquote>\n",
       "This paragraph will result in an indented block of\n",
       "text, typically used for quoting other text.</blockquote>\n",
       "<ol class=\"arabic simple\">\n",
       "<li>This is a numbered item</li>\n",
       "<li>As is this</li>\n",
       "</ol>\n",
       "<p>This is inline code: <tt class=\"docutils literal\">np.random.randn(100)</tt></p>\n",
       "<p>And this is a block of code:</p>\n",
       "<pre class=\"literal-block\">\n",
       "a = np.random.randn(100)\n",
       "plt.plot(a)\n",
       "</pre>\n",
       "<p>And here's a nice image:</p>\n",
       "<img alt=\"astropylogo.png\" src=\"astropylogo.png\" />\n",
       "</div>\n",
       "</body>\n",
       "</html>\n"
      ],
      "text/plain": [
       "<IPython.core.display.HTML object>"
      ]
     },
     "metadata": {},
     "output_type": "display_data"
    }
   ],
   "source": [
    "from IPython.core.display import display, HTML\n",
    "\n",
    "with open('rest_example.html') as f:\n",
    "    display(HTML(f.read()))"
   ]
  },
  {
   "cell_type": "markdown",
   "metadata": {
    "slideshow": {
     "slide_type": "slide"
    }
   },
   "source": [
    "## How do you get sphinx working for your code?"
   ]
  },
  {
   "cell_type": "markdown",
   "metadata": {
    "slideshow": {
     "slide_type": "fragment"
    }
   },
   "source": [
    "* Follow the Sphinx quick-start: http://www.sphinx-doc.org/en/1.5/tutorial.html\n",
    "  * Straightforward to start with, lots of options\n",
    "  * Requires choosing between those options, have to communicate structure to other contributors\n",
    "  * Does not come with a straightforward/automatic \"copy over my docstrings\" tool"
   ]
  },
  {
   "cell_type": "markdown",
   "metadata": {
    "collapsed": true,
    "slideshow": {
     "slide_type": "fragment"
    }
   },
   "source": [
    "* Use the Astropy affiliated package template (https://github.com/astropy/package-template)\n",
    "  * Has very specific step-by-step instructions on how to get up and running\n",
    "  * Follows a fairly standard layout, sphinx works out-of-the-box - just type ``python setup.py build_docs``\n",
    "  * All you have to do to get docstrings is \"``.. automodapi:: yourpkg``\"\n",
    "  * Has an advanced(/complex) set of options for how to make your docstrings pretty, and an ecosystem (Astropy) with lots of copy-and-paste-able examples.\n",
    "  * (Comes with lots of other stuff that's not documentation but might be useful for you)"
   ]
  }
 ],
 "metadata": {
  "anaconda-cloud": {},
  "celltoolbar": "Slideshow",
  "kernelspec": {
   "display_name": "Python 3",
   "language": "python",
   "name": "python3"
  },
  "language_info": {
   "codemirror_mode": {
    "name": "ipython",
    "version": 3
   },
   "file_extension": ".py",
   "mimetype": "text/x-python",
   "name": "python",
   "nbconvert_exporter": "python",
   "pygments_lexer": "ipython3",
   "version": "3.5.2"
  }
 },
 "nbformat": 4,
 "nbformat_minor": 0
}
