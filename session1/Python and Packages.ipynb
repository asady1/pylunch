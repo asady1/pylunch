{
 "cells": [
  {
   "cell_type": "markdown",
   "metadata": {
    "slideshow": {
     "slide_type": "slide"
    }
   },
   "source": [
    "<img src=\"python.png\" style=\"background:none; border:none; box-shadow:none;\">"
   ]
  },
  {
   "cell_type": "markdown",
   "metadata": {
    "slideshow": {
     "slide_type": "fragment"
    }
   },
   "source": [
    "* Has significant whitespace"
   ]
  },
  {
   "cell_type": "code",
   "execution_count": null,
   "metadata": {
    "collapsed": true,
    "slideshow": {
     "slide_type": "fragment"
    }
   },
   "outputs": [],
   "source": [
    "if something:\n",
    "    do something"
   ]
  },
  {
   "cell_type": "markdown",
   "metadata": {
    "slideshow": {
     "slide_type": "fragment"
    }
   },
   "source": [
    "is not the same as "
   ]
  },
  {
   "cell_type": "code",
   "execution_count": null,
   "metadata": {
    "collapsed": true,
    "slideshow": {
     "slide_type": "fragment"
    }
   },
   "outputs": [],
   "source": [
    "if something:\n",
    "do something"
   ]
  },
  {
   "cell_type": "markdown",
   "metadata": {
    "slideshow": {
     "slide_type": "fragment"
    }
   },
   "source": [
    "* Is Object-Oriented at all levels (but hides it well!) - more on that next session"
   ]
  },
  {
   "cell_type": "markdown",
   "metadata": {
    "slideshow": {
     "slide_type": "fragment"
    }
   },
   "source": [
    "* Is an interpreted language (like IDL, Java, **unlike** C, FORTRAN) - more on that too next session"
   ]
  },
  {
   "cell_type": "markdown",
   "metadata": {
    "slideshow": {
     "slide_type": "slide"
    }
   },
   "source": [
    "# For now, why do you care that it's interpreted?"
   ]
  },
  {
   "cell_type": "markdown",
   "metadata": {
    "slideshow": {
     "slide_type": "fragment"
    }
   },
   "source": [
    "Because instead of doing \n",
    "```\n",
    "% mycode\n",
    "```\n",
    "you effectively always do \n",
    "```\n",
    "% python mycode.py\n",
    "```\n",
    "Which means you have to know *which* ``python`` you're running"
   ]
  },
  {
   "cell_type": "markdown",
   "metadata": {
    "collapsed": true,
    "slideshow": {
     "slide_type": "fragment"
    }
   },
   "source": [
    "Which causes no end of trouble:\n",
    "\n",
    "```\n",
    "% pip install astropy\n",
    "% python\n",
    "Python 3.4.3 (default, Aug 26 2015, 18:29:14) \n",
    "[GCC 4.2.1 Compatible Apple LLVM 6.0 (clang-600.0.56)] on darwin\n",
    "Type \"help\", \"copyright\", \"credits\" or \"license\" for more information.\n",
    ">>> import astropy\n",
    "Traceback (most recent call last):\n",
    "  File \"<stdin>\", line 1, in <module>\n",
    "ImportError: No module named 'astropy'\n",
    "```"
   ]
  },
  {
   "cell_type": "markdown",
   "metadata": {
    "slideshow": {
     "slide_type": "fragment"
    }
   },
   "source": [
    "(The ``python`` that ``% pip`` references is a *different* ``python`` from the one that ``% python`` finds)"
   ]
  },
  {
   "cell_type": "markdown",
   "metadata": {
    "slideshow": {
     "slide_type": "fragment"
    }
   },
   "source": [
    "Our recommended solution: Anaconda (more on that in a bit)"
   ]
  },
  {
   "cell_type": "markdown",
   "metadata": {
    "slideshow": {
     "slide_type": "slide"
    }
   },
   "source": [
    "# What is all this funky business?\n",
    "\n",
    "```\n",
    "import astropy \n",
    "import astropy.coordinates\n",
    "from astropy.coordintes import angles\n",
    "from astropy.coordintes import SkyCoord\n",
    "```"
   ]
  },
  {
   "cell_type": "markdown",
   "metadata": {
    "slideshow": {
     "slide_type": "slide"
    }
   },
   "source": [
    "# Package Terminology"
   ]
  },
  {
   "cell_type": "markdown",
   "metadata": {
    "slideshow": {
     "slide_type": "fragment"
    }
   },
   "source": [
    "* “package”: the biggest thing.  E.g., astropy, numpy, sunpy. A directory with an ``__init__.py``"
   ]
  },
  {
   "cell_type": "markdown",
   "metadata": {
    "slideshow": {
     "slide_type": "fragment"
    }
   },
   "source": [
    "* “module”: a single ``something.py`` file - the module is “something”"
   ]
  },
  {
   "cell_type": "markdown",
   "metadata": {
    "slideshow": {
     "slide_type": "fragment"
    }
   },
   "source": [
    "* “subpackage”: a package within a package"
   ]
  },
  {
   "cell_type": "markdown",
   "metadata": {
    "slideshow": {
     "slide_type": "fragment"
    }
   },
   "source": [
    "* “source directory/folder”: the directory/folder with all of a codes “stuff”"
   ]
  },
  {
   "cell_type": "markdown",
   "metadata": {
    "slideshow": {
     "slide_type": "fragment"
    }
   },
   "source": [
    "* “repository”/“repo”: the source directory *in version control*"
   ]
  },
  {
   "cell_type": "markdown",
   "metadata": {
    "slideshow": {
     "slide_type": "fragment"
    }
   },
   "source": [
    "* “submodule”: a git repo embedded in *another* git repo"
   ]
  },
  {
   "cell_type": "markdown",
   "metadata": {
    "slideshow": {
     "slide_type": "skip"
    }
   },
   "source": [
    "* “astropy-helpers”: a particular submodule that is used by the package template"
   ]
  },
  {
   "cell_type": "markdown",
   "metadata": {
    "slideshow": {
     "slide_type": "slide"
    }
   },
   "source": [
    "# Package Example"
   ]
  },
  {
   "cell_type": "markdown",
   "metadata": {
    "slideshow": {
     "slide_type": "fragment"
    }
   },
   "source": [
    "```\n",
    "README\n",
    "LICENSE\n",
    "setup.py\n",
    "\n",
    "mypackage/__init__.py\n",
    "mypackage/mymodule.py\n",
    "mypackage/secondmodule.py\n",
    "mypackage/subpackage/__init__.py\n",
    "mypackage/subpackage/anothermodule.py\n",
    "```"
   ]
  },
  {
   "cell_type": "code",
   "execution_count": null,
   "metadata": {
    "collapsed": false,
    "slideshow": {
     "slide_type": "fragment"
    }
   },
   "outputs": [],
   "source": [
    "import mypackage\n",
    "from mypackage import my module\n",
    "from mypackage import secondmodule\n",
    "from mypackage import subpackage\n",
    "from mypackage.subpackage import anothermodule "
   ]
  },
  {
   "cell_type": "markdown",
   "metadata": {
    "slideshow": {
     "slide_type": "slide"
    }
   },
   "source": [
    "# Now back to the imports\n",
    "```\n",
    "import astropy \n",
    "import astropy.coordinates\n",
    "from astropy.coordintes import angles\n",
    "from astropy.coordintes import SkyCoord\n",
    "```"
   ]
  },
  {
   "cell_type": "markdown",
   "metadata": {
    "collapsed": false,
    "slideshow": {
     "slide_type": "subslide"
    }
   },
   "source": [
    "import <span class=\"circletext\"> astropy </span> <br>\n",
    "import astropy.coordinates <br>\n",
    "from astropy.coordintes import angles <br>\n",
    "from astropy.coordintes import SkyCoord \n",
    "\n",
    "`astropy` is a:"
   ]
  },
  {
   "cell_type": "markdown",
   "metadata": {
    "slideshow": {
     "slide_type": "fragment"
    }
   },
   "source": [
    "## package"
   ]
  },
  {
   "cell_type": "markdown",
   "metadata": {
    "slideshow": {
     "slide_type": "fragment"
    }
   },
   "source": [
    "Which you would use from python as\n",
    "```\n",
    "astropy.<something>\n",
    "```"
   ]
  },
  {
   "cell_type": "markdown",
   "metadata": {
    "collapsed": false,
    "slideshow": {
     "slide_type": "subslide"
    }
   },
   "source": [
    "import astropy <br>\n",
    "import <span class=\"circletext\"> astropy.coordinates</span> <br>\n",
    "from astropy.coordintes import angles <br>\n",
    "from astropy.coordintes import SkyCoord \n",
    "\n",
    "`coordinates` is a:"
   ]
  },
  {
   "cell_type": "markdown",
   "metadata": {
    "slideshow": {
     "slide_type": "fragment"
    }
   },
   "source": [
    "## subpackage"
   ]
  },
  {
   "cell_type": "markdown",
   "metadata": {
    "slideshow": {
     "slide_type": "fragment"
    }
   },
   "source": [
    "Which you would use from python as\n",
    "```\n",
    "astropy.coordinates.<something>\n",
    "```"
   ]
  },
  {
   "cell_type": "markdown",
   "metadata": {
    "collapsed": false,
    "slideshow": {
     "slide_type": "subslide"
    }
   },
   "source": [
    "import  astropy <br>\n",
    "import astropy.coordinates <br>\n",
    "from astropy.coordintes import <span class=\"circletext\">angles</span> <br>\n",
    "from astropy.coordintes import SkyCoord \n",
    "\n",
    "`astropy` is a:"
   ]
  },
  {
   "cell_type": "markdown",
   "metadata": {
    "slideshow": {
     "slide_type": "fragment"
    }
   },
   "source": [
    "## module"
   ]
  },
  {
   "cell_type": "markdown",
   "metadata": {
    "slideshow": {
     "slide_type": "fragment"
    }
   },
   "source": [
    "Which you would use from python as\n",
    "```\n",
    "angles.<something>\n",
    "```"
   ]
  },
  {
   "cell_type": "markdown",
   "metadata": {
    "collapsed": false,
    "slideshow": {
     "slide_type": "subslide"
    }
   },
   "source": [
    "import  astropy<br>\n",
    "import astropy.coordinates <br>\n",
    "from astropy.coordintes import angles <br>\n",
    "from astropy.coordintes import <span class=\"circletext\">SkyCoord</span>\n",
    "\n",
    "`astropy` is a:"
   ]
  },
  {
   "cell_type": "markdown",
   "metadata": {
    "slideshow": {
     "slide_type": "fragment"
    }
   },
   "source": [
    "## variable (more specifically, a class)"
   ]
  },
  {
   "cell_type": "markdown",
   "metadata": {
    "slideshow": {
     "slide_type": "fragment"
    }
   },
   "source": [
    "Which you would use from python as\n",
    "```\n",
    "coord = SkyCoord(3, 4, unit='degrees')\n",
    "```"
   ]
  },
  {
   "cell_type": "markdown",
   "metadata": {
    "slideshow": {
     "slide_type": "slide"
    }
   },
   "source": [
    "<div style=\"text-align: center\">\n",
    "<img src=\"logo-anaconda.svg\" width=\"50%\" height=\"50%\" style=\"background:none; border:none; box-shadow:none; text-align: center; display: inline;\">\n",
    "\n",
    "<h1>Why is it useful?</h1>\n",
    "</div>"
   ]
  },
  {
   "cell_type": "markdown",
   "metadata": {
    "slideshow": {
     "slide_type": "subslide"
    }
   },
   "source": [
    "# Why is it useful?"
   ]
  },
  {
   "cell_type": "markdown",
   "metadata": {
    "slideshow": {
     "slide_type": "-"
    }
   },
   "source": [
    "* It lets you install into your home directory"
   ]
  },
  {
   "cell_type": "markdown",
   "metadata": {
    "slideshow": {
     "slide_type": "fragment"
    }
   },
   "source": [
    "* It lets you install new packages easily:\n",
    "```\n",
    "% conda install astropy\n",
    "```\n",
    "Even if they are community tools (\"halootls\" is a cosmological simulation analysis package):\n",
    "```\n",
    "% conda install -c astropy halotools\n",
    "```"
   ]
  },
  {
   "cell_type": "markdown",
   "metadata": {
    "collapsed": true,
    "slideshow": {
     "slide_type": "fragment"
    }
   },
   "source": [
    "* It also lets you manage lots of different python \"environments\":\n",
    "```\n",
    "% conda create -n my_experimental_environment python=2.7 astropy=1.0\n",
    "% source actvate my_experimental_environment\n",
    "% cd /that/thing/my/python/collabortor/sent/me\n",
    "% python setup.py install \n",
    "...\n",
    "```\n",
    "Which means you can delete broken stuff without destroying your machine!\n",
    "```\n",
    "% conda env remove -n my_experimental_environment\n",
    "% conda create -n my_better_environement  anaconda python=3.5 astropy=1.2\n",
    "% source actvate my_better_environement\n",
    "% python setup.py install \n",
    "...\n",
    "```\n"
   ]
  },
  {
   "cell_type": "markdown",
   "metadata": {
    "slideshow": {
     "slide_type": "slide"
    }
   },
   "source": [
    "# Now let's all get it working\n",
    "\n",
    "Go to https://www.continuum.io/downloads (or just google \"Anaconda download\")\n",
    "\n",
    "Download and install 3.5 (or 2.7 if you really know you want it)\n",
    "\n",
    "Open a terminal and try `conda list`, and `which python`.  The latter should show something like: <br> \n",
    "```\n",
    "/Users/<yourname>/anaconda3/bin/python\n",
    "```\n",
    "and **not**\n",
    "```\n",
    "/usr/bin/python\n",
    "```\n",
    "nor \n",
    "```\n",
    "/sw/bin/python\n",
    "```\n",
    "\n",
    "\n",
    "If you want IRAF in python, you can also check out http://astroconda.readthedocs.io/en/latest/ \n",
    "\n",
    "(Note that this, and a lot of other useful `conda` bits requires the `bash` shell. Type `echo $SHELL` to see what you have, and if it's not `bash`, try going into ``bash`` before using Anaconda)\n",
    "\n",
    "If you're done and bored, help populate https://github.com/spacetelescope/pylunch/wiki !"
   ]
  },
  {
   "cell_type": "raw",
   "metadata": {
    "slideshow": {
     "slide_type": "skip"
    }
   },
   "source": []
  },
  {
   "cell_type": "code",
   "execution_count": null,
   "metadata": {
    "collapsed": true,
    "slideshow": {
     "slide_type": "skip"
    }
   },
   "outputs": [],
   "source": []
  },
  {
   "cell_type": "markdown",
   "metadata": {
    "slideshow": {
     "slide_type": "skip"
    }
   },
   "source": [
    "To actually show this as a presentation, the easiest thing is to do ``jupyter nbconvert --to slides Python\\ and\\ Packaging.ipynb --post serve``"
   ]
  },
  {
   "cell_type": "raw",
   "metadata": {
    "slideshow": {
     "slide_type": "skip"
    }
   },
   "source": [
    "<!--<link rel=\"stylesheet\" href=\"reveal.js/css/theme/sky.css\" id=\"theme\">-->"
   ]
  }
 ],
 "metadata": {
  "celltoolbar": "Slideshow",
  "kernelspec": {
   "display_name": "Python 3",
   "language": "python",
   "name": "python3"
  },
  "language_info": {
   "codemirror_mode": {
    "name": "ipython",
    "version": 3
   },
   "file_extension": ".py",
   "mimetype": "text/x-python",
   "name": "python",
   "nbconvert_exporter": "python",
   "pygments_lexer": "ipython3",
   "version": "3.5.1"
  }
 },
 "nbformat": 4,
 "nbformat_minor": 0
}
