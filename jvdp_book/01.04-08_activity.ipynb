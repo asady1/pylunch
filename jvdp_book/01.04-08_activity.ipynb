{
 "cells": [
  {
   "cell_type": "markdown",
   "metadata": {},
   "source": [
    "# PyLunch Nova \n",
    "## February 28, 2017"
   ]
  },
  {
   "cell_type": "markdown",
   "metadata": {},
   "source": [
    "This week we will switch to using Jupyter notebooks instead of the IPython terminal interface.  In the blank cells below, type the activities for the sections linked in the section titles."
   ]
  },
  {
   "cell_type": "markdown",
   "metadata": {},
   "source": [
    "## Jupyter Notebooks "
   ]
  },
  {
   "cell_type": "markdown",
   "metadata": {},
   "source": [
    "Jupyter Notebooks provide a bunch of useful ways to interact with Python (or other language) code.  In future sessions we'll take more detailed looks at Notebooks' special functionality. For now just think of it as a way to execute Python code just like you'd enter it in the IPython prompt."
   ]
  },
  {
   "cell_type": "markdown",
   "metadata": {},
   "source": [
    "**Key bits to know**: To execute a cell, type code into it and use ``Shift-Enter``. To get more cells, click on the  ``In[#]``  text on the left of the cell, and then hit the ``b`` key (to add below), or the ``a`` key (to add above).  For more on the interface, look under the \"Help\" menu at the top, particularly the \"User Interface Tutorial\"."
   ]
  },
  {
   "cell_type": "markdown",
   "metadata": {},
   "source": [
    "*Addendum from last week*: We covered the ``?`` and ``??`` help commands in section 01.01.  In the notebook, those commands pop up in a panel at the bottom instead of in-line with the text.  Run the cell below with `Shift-Enter` to see this in action.  "
   ]
  },
  {
   "cell_type": "code",
   "execution_count": null,
   "metadata": {
    "collapsed": false
   },
   "outputs": [],
   "source": [
    "open?"
   ]
  },
  {
   "cell_type": "markdown",
   "metadata": {},
   "source": [
    "Note that tab completion works in the notebook similar to IPython.  Click on the cell below, move the cursor to the end of the dot, and hit `<tab>` to see this in action. (You'll see more details on what ``In`` means in the Section 01.04 section.)"
   ]
  },
  {
   "cell_type": "code",
   "execution_count": null,
   "metadata": {
    "collapsed": false
   },
   "outputs": [],
   "source": [
    "In."
   ]
  },
  {
   "cell_type": "markdown",
   "metadata": {},
   "source": [
    "## [Section 01.04: Input and Output History](PythonDataScienceHandbook/notebooks/01.04-Input-Output-History.ipynb)\n",
    "\n",
    "(The section header links require a local copy of the book - to do that follow the README that sits along side this notebook. If you can't get that working, the above link won't work, and you'll need to use [the book's github page](https://github.com/jakevdp/PythonDataScienceHandbook).)"
   ]
  },
  {
   "cell_type": "code",
   "execution_count": null,
   "metadata": {
    "collapsed": true
   },
   "outputs": [],
   "source": []
  },
  {
   "cell_type": "code",
   "execution_count": null,
   "metadata": {
    "collapsed": true
   },
   "outputs": [],
   "source": []
  },
  {
   "cell_type": "markdown",
   "metadata": {},
   "source": [
    "## [Section 01.05: IPython and Shell Commands](PythonDataScienceHandbook/notebooks/01.05-IPython-And-Shell-Commands.ipynb)"
   ]
  },
  {
   "cell_type": "code",
   "execution_count": null,
   "metadata": {
    "collapsed": true
   },
   "outputs": [],
   "source": []
  },
  {
   "cell_type": "code",
   "execution_count": null,
   "metadata": {
    "collapsed": true
   },
   "outputs": [],
   "source": []
  },
  {
   "cell_type": "markdown",
   "metadata": {},
   "source": [
    "## [Section 01.06: Errors and Debugging](PythonDataScienceHandbook/notebooks/01.06-Errors-and-Debugging.ipynb)"
   ]
  },
  {
   "cell_type": "markdown",
   "metadata": {},
   "source": [
    "Note: when you run `debug` in the *notebook*, the debugger appears in lines below the cell, while in IPython it appears as a new line similar to if you had run a regular line."
   ]
  },
  {
   "cell_type": "code",
   "execution_count": null,
   "metadata": {
    "collapsed": true
   },
   "outputs": [],
   "source": []
  },
  {
   "cell_type": "code",
   "execution_count": null,
   "metadata": {
    "collapsed": true
   },
   "outputs": [],
   "source": []
  },
  {
   "cell_type": "markdown",
   "metadata": {},
   "source": [
    "## [Section 01.07: Timing and Profiling](PythonDataScienceHandbook/notebooks/01.07-Timing-and-Profiling.ipynb)"
   ]
  },
  {
   "cell_type": "code",
   "execution_count": null,
   "metadata": {
    "collapsed": true
   },
   "outputs": [],
   "source": []
  },
  {
   "cell_type": "code",
   "execution_count": null,
   "metadata": {
    "collapsed": true
   },
   "outputs": [],
   "source": []
  },
  {
   "cell_type": "markdown",
   "metadata": {},
   "source": [
    "## [Section 01.08: More iPython Resources](PythonDataScienceHandbook/notebooks/01.08-More-IPython-Resources.ipynb)\n",
    "\n",
    "Pretty self-explanatory.\n",
    "\n",
    "See you in two weeks!"
   ]
  }
 ],
 "metadata": {
  "anaconda-cloud": {},
  "kernelspec": {
   "display_name": "Python [default]",
   "language": "python",
   "name": "python3"
  },
  "language_info": {
   "codemirror_mode": {
    "name": "ipython",
    "version": 3
   },
   "file_extension": ".py",
   "mimetype": "text/x-python",
   "name": "python",
   "nbconvert_exporter": "python",
   "pygments_lexer": "ipython3",
   "version": "3.5.2"
  }
 },
 "nbformat": 4,
 "nbformat_minor": 1
}
