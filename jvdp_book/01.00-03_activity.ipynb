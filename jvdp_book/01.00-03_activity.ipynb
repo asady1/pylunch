{
 "cells": [
  {
   "cell_type": "markdown",
   "metadata": {},
   "source": [
    "# PyLunch Nova \n",
    "## Feb 14, 2017"
   ]
  },
  {
   "cell_type": "markdown",
   "metadata": {},
   "source": [
    "## Chapter 1\n",
    "\n",
    "* [00: IPython: Beyond Normal Python](PythonDataScienceHandbook/notebooks/01.00-IPython-Beyond-Normal-Python.ipynb)\n",
    "* [01: Help and Documentation in IPython](PythonDataScienceHandbook/notebooks/01.01-Help-And-Documentation.ipynb)\n",
    "* [02: Keyboard Shortcuts in the IPython Shell](PythonDataScienceHandbook/notebooks/01.02-Shell-Keyboard-Shortcuts.ipynb)\n",
    "* [03 :IPython Magic Commands](PythonDataScienceHandbook/notebooks/01.03-Magic-Commands.ipynb)\n",
    "\n",
    "(If you don't have a local copy, the above links won't work, and you'll need to use [the book's github page](https://github.com/jakevdp/PythonDataScienceHandbook)"
   ]
  },
  {
   "cell_type": "markdown",
   "metadata": {},
   "source": [
    "This week's activities/exercises are in the ipython interactive shell.  To access that, open up a terminal and simply type:\n",
    "\n",
    "```\n",
    "ipython\n",
    "```\n",
    "\n",
    "And type the shell commands from the above chapters into the terminal."
   ]
  }
 ],
 "metadata": {
  "anaconda-cloud": {},
  "kernelspec": {
   "display_name": "Python [default]",
   "language": "python",
   "name": "python3"
  },
  "language_info": {
   "codemirror_mode": {
    "name": "ipython",
    "version": 3
   },
   "file_extension": ".py",
   "mimetype": "text/x-python",
   "name": "python",
   "nbconvert_exporter": "python",
   "pygments_lexer": "ipython3",
   "version": "3.5.2"
  }
 },
 "nbformat": 4,
 "nbformat_minor": 1
}
