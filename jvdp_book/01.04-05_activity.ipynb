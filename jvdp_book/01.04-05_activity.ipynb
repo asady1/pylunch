{
 "cells": [
  {
   "cell_type": "markdown",
   "metadata": {},
   "source": [
    "# PyLunch Nova \n",
    "## [future], 2017"
   ]
  },
  {
   "cell_type": "markdown",
   "metadata": {},
   "source": [
    "## [Section 01.04: Input and Output History](PythonDataScienceHandbook/notebooks/01.04-Input-Output-History.ipynb)\n",
    "\n",
    "(If you don't have a local copy of the book, the above link won't work, and you'll need to use [the book's github page](https://github.com/jakevdp/PythonDataScienceHandbook)"
   ]
  },
  {
   "cell_type": "markdown",
   "metadata": {},
   "source": [
    "This week we will switch to using Jupyter notebooks instead of the IPython terminal interface.  In the cells below, type the activities for [01.04](PythonDataScienceHandbook/notebooks/01.04-Input-Output-History.ipynb). \n",
    "\n",
    "To execute a cell, use ``Shift-Enter``. To get more cells, click on the  ``In[#]``  text on the left of the cell, and then hit the ``b`` key (to add below), or the ``a`` key (to add above)."
   ]
  },
  {
   "cell_type": "code",
   "execution_count": null,
   "metadata": {
    "collapsed": true
   },
   "outputs": [],
   "source": []
  },
  {
   "cell_type": "code",
   "execution_count": null,
   "metadata": {
    "collapsed": true
   },
   "outputs": [],
   "source": []
  },
  {
   "cell_type": "markdown",
   "metadata": {},
   "source": [
    "## [Section 01.05: IPython and Shell Commands](PythonDataScienceHandbook/notebooks/01.05-IPython-And-Shell-Commands.ipynb)"
   ]
  },
  {
   "cell_type": "code",
   "execution_count": null,
   "metadata": {
    "collapsed": true
   },
   "outputs": [],
   "source": []
  },
  {
   "cell_type": "code",
   "execution_count": null,
   "metadata": {
    "collapsed": true
   },
   "outputs": [],
   "source": []
  },
  {
   "cell_type": "markdown",
   "metadata": {},
   "source": [
    "## Astronomy Exercises "
   ]
  },
  {
   "cell_type": "markdown",
   "metadata": {},
   "source": [
    "Here you will learn how to do all the science with astropy.  But you'd have trouble finding the astropy web site, so here's a link to it: [astropy](http://www.astropy.org).\n",
    "\n",
    "\n",
    "Now I review an important piece of background... blah blah blah...  Now you try!:"
   ]
  },
  {
   "cell_type": "code",
   "execution_count": null,
   "metadata": {
    "collapsed": true
   },
   "outputs": [],
   "source": []
  }
 ],
 "metadata": {
  "anaconda-cloud": {},
  "kernelspec": {
   "display_name": "Python [default]",
   "language": "python",
   "name": "python3"
  },
  "language_info": {
   "codemirror_mode": {
    "name": "ipython",
    "version": 3
   },
   "file_extension": ".py",
   "mimetype": "text/x-python",
   "name": "python",
   "nbconvert_exporter": "python",
   "pygments_lexer": "ipython3",
   "version": "3.5.2"
  }
 },
 "nbformat": 4,
 "nbformat_minor": 1
}
