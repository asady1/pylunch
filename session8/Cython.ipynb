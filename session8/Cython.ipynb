{
 "cells": [
  {
   "cell_type": "markdown",
   "metadata": {
    "slideshow": {
     "slide_type": "slide"
    }
   },
   "source": [
    "\n",
    "#  <img src=\"Cython-logo.svg\" style=\"background:none; border:none; box-shadow:none; display:inline; margin:0; vertical-align:middle;\" width=\"25%\" height=\"25%\"> \n",
    "\n",
    "### A tool for making Python as fast as C/Fortran"
   ]
  },
  {
   "cell_type": "markdown",
   "metadata": {
    "collapsed": true,
    "slideshow": {
     "slide_type": "slide"
    }
   },
   "source": [
    "# In what way is Python \"slow\"?"
   ]
  },
  {
   "cell_type": "markdown",
   "metadata": {
    "slideshow": {
     "slide_type": "fragment"
    }
   },
   "source": [
    "* It is interpreted\\*: `python` is a piece of software (written in C) that executes python code on-the-fly. C/Fortran instead are compiled directly to machine-understadable binary code.\n",
    "\n",
    "<small>* Actually Python is sorta compiled. But the above is still mostly true. </small> "
   ]
  },
  {
   "cell_type": "markdown",
   "metadata": {
    "slideshow": {
     "slide_type": "fragment"
    }
   },
   "source": [
    "* In practice this often isn't important because the basic operations are still the same.  But numerical `for` loops (especially with function calls) can be a problem."
   ]
  },
  {
   "cell_type": "markdown",
   "metadata": {
    "slideshow": {
     "slide_type": "fragment"
    }
   },
   "source": [
    "* This is why `numpy` was invented - it basically does efficient looping.  But sometimes it's not well suited to a problem..."
   ]
  },
  {
   "cell_type": "markdown",
   "metadata": {
    "slideshow": {
     "slide_type": "subslide"
    }
   },
   "source": [
    "## Which is clearer?"
   ]
  },
  {
   "cell_type": "markdown",
   "metadata": {},
   "source": [
    "I want to know the values from `values`, which are aligned to `ids2`, corresponding to the IDs in `ids1`."
   ]
  },
  {
   "cell_type": "code",
   "execution_count": null,
   "metadata": {
    "collapsed": false,
    "slideshow": {
     "slide_type": "-"
    }
   },
   "outputs": [],
   "source": [
    "sorti = np.argsort(ids2)\n",
    "idsforvals = np.searchsorted(ids2[sorti], ids1)\n",
    "new_array = values[sorti][idsforvals]\n",
    "\n",
    "# there's actually a better way to do this in newer numpy versions... \n",
    "# but it's a contrived example to start with."
   ]
  },
  {
   "cell_type": "code",
   "execution_count": null,
   "metadata": {
    "collapsed": false,
    "slideshow": {
     "slide_type": "-"
    }
   },
   "outputs": [],
   "source": [
    "for i in ids1:\n",
    "    for j in ids2:\n",
    "        if i == j:\n",
    "            new_array[i] = values[j]"
   ]
  },
  {
   "cell_type": "markdown",
   "metadata": {
    "collapsed": true,
    "slideshow": {
     "slide_type": "slide"
    }
   },
   "source": [
    "# What does Cython do about that?"
   ]
  },
  {
   "cell_type": "markdown",
   "metadata": {
    "slideshow": {
     "slide_type": "fragment"
    }
   },
   "source": [
    "* Cython is an \"optimising static compiler\" for Python"
   ]
  },
  {
   "cell_type": "markdown",
   "metadata": {
    "slideshow": {
     "slide_type": "fragment"
    }
   },
   "source": [
    "* It can be run on regular Python... But that usually only has a small effect (not worth the trouble), because the C it makes still does everything `python` does."
   ]
  },
  {
   "cell_type": "markdown",
   "metadata": {
    "slideshow": {
     "slide_type": "fragment"
    }
   },
   "source": [
    "* But you can tell it to behave \"like C\" by specifying `types` for variables.  This can speed things up by orders of magnitude."
   ]
  },
  {
   "cell_type": "markdown",
   "metadata": {
    "slideshow": {
     "slide_type": "fragment"
    }
   },
   "source": [
    "* Bonus: you can also call C functions directly"
   ]
  },
  {
   "cell_type": "markdown",
   "metadata": {
    "slideshow": {
     "slide_type": "fragment"
    }
   },
   "source": [
    "* The price is flexibility (and clarity): you can no longer use Python techniques like freely casting an integer to a float"
   ]
  },
  {
   "cell_type": "markdown",
   "metadata": {
    "collapsed": true,
    "slideshow": {
     "slide_type": "slide"
    }
   },
   "source": [
    "# Now lets do a \"hello world\" example\n",
    "\n",
    "* First make sure you have cython installed (``conda install cython`` should work).\n",
    "* Look at the file ``hello_world.pyx`` in the spacetelescope/pylunch repo. \n",
    "* Open up a terminal and go to the repo and do ``cython hello_world.pyx``.  It should create a ``hello_world.c`` file.\n",
    "* Now compile that file.  This can be tricky to know the right flags.  For me, this worked:\n",
    "```\n",
    "clang -bundle -undefined dynamic_lookup -L/Users/erik/miniconda3/envs/anaconda/lib -arch x86_64 build/temp.macosx-10.6-x86_64-3.5/astropy/_compiler.o -L/Users/erik/miniconda3/envs/anaconda/lib hello_world.c hello_world.so\n",
    "```\n",
    "try that but with \"anaconda\" replaced by your current conda environment.  If you have trouble, check out http://cython.readthedocs.io/en/latest/src/reference/compilation.html .  If you still have trouble, try the method in http://cython.readthedocs.io/en/latest/src/tutorial/cython_tutorial.html, or just wait for a bit."
   ]
  },
  {
   "cell_type": "code",
   "execution_count": null,
   "metadata": {
    "collapsed": true,
    "slideshow": {
     "slide_type": "skip"
    }
   },
   "outputs": [],
   "source": []
  },
  {
   "cell_type": "code",
   "execution_count": null,
   "metadata": {
    "collapsed": true,
    "slideshow": {
     "slide_type": "skip"
    }
   },
   "outputs": [],
   "source": []
  },
  {
   "cell_type": "code",
   "execution_count": null,
   "metadata": {
    "collapsed": true,
    "slideshow": {
     "slide_type": "skip"
    }
   },
   "outputs": [],
   "source": []
  },
  {
   "cell_type": "markdown",
   "metadata": {
    "slideshow": {
     "slide_type": "skip"
    }
   },
   "source": [
    "To actually show this as a presentation, the easiest thing is to do ``jupyter nbconvert --to slides <this file's name>.ipynb --post serve``"
   ]
  },
  {
   "cell_type": "raw",
   "metadata": {
    "slideshow": {
     "slide_type": "skip"
    }
   },
   "source": [
    "<!--<link rel=\"stylesheet\" href=\"reveal.js/css/theme/sky.css\" id=\"theme\">-->"
   ]
  }
 ],
 "metadata": {
  "celltoolbar": "Slideshow",
  "kernelspec": {
   "display_name": "Python 3",
   "language": "python",
   "name": "python3"
  },
  "language_info": {
   "codemirror_mode": {
    "name": "ipython",
    "version": 3
   },
   "file_extension": ".py",
   "mimetype": "text/x-python",
   "name": "python",
   "nbconvert_exporter": "python",
   "pygments_lexer": "ipython3",
   "version": "3.5.2"
  }
 },
 "nbformat": 4,
 "nbformat_minor": 0
}
